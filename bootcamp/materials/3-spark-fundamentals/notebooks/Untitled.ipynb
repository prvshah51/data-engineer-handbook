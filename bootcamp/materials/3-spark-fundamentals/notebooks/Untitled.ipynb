{
 "cells": [
  {
   "cell_type": "code",
   "execution_count": 83,
   "id": "78bffda3-b015-43c2-ae25-b635e49b1440",
   "metadata": {},
   "outputs": [
    {
     "data": {
      "text/plain": [
       "import org.apache.spark.sql.functions._\n",
       "import org.apache.spark.storage.StorageLevel\n"
      ]
     },
     "execution_count": 83,
     "metadata": {},
     "output_type": "execute_result"
    }
   ],
   "source": [
    "import org.apache.spark.sql.functions._\n",
    "import org.apache.spark.storage.StorageLevel\n",
    "\n",
    "\n",
    "spark.conf.set(\"spark.sql.autoBroadcastJoinThreshold\", \"-1\")"
   ]
  },
  {
   "cell_type": "code",
   "execution_count": 100,
   "id": "8b722e83-f14e-4e38-837f-94f1ad4466be",
   "metadata": {},
   "outputs": [
    {
     "name": "stdout",
     "output_type": "stream",
     "text": [
      "+--------------------+----------+--------------------+---------------+---------------------+------------+-----------------+--------+-----------------+------------------------+------------+---------------------------------+-----------------+----------------+-----------------------+-----------+--------------------------------+----------------+-------------------+---------------+-------------------+------------------+----------------------+--------------------------+-------------------------+------------------------+-------------------------+---------------------------+-------------------------------+--------------------------------+---------------------------+--------------------------------+-------------------------------+-------------------+--------------------+--------------------------+-------+-------+------------+--------------------+--------------------+-------------+-------------------+--------------+---------+--------------+---------------+-----+--------------------+-----------+----------+------------------+-------------------+------------+-------------+-----------------+--------------------+-------------+----------+------+--------------------+\n",
      "|               mapid|  medal_id|            match_id|player_gamertag|previous_spartan_rank|spartan_rank|previous_total_xp|total_xp|previous_csr_tier|previous_csr_designation|previous_csr|previous_csr_percent_to_next_tier|previous_csr_rank|current_csr_tier|current_csr_designation|current_csr|current_csr_percent_to_next_tier|current_csr_rank|player_rank_on_team|player_finished|player_average_life|player_total_kills|player_total_headshots|player_total_weapon_damage|player_total_shots_landed|player_total_melee_kills|player_total_melee_damage|player_total_assassinations|player_total_ground_pound_kills|player_total_shoulder_bash_kills|player_total_grenade_damage|player_total_power_weapon_damage|player_total_power_weapon_grabs|player_total_deaths|player_total_assists|player_total_grenade_kills|did_win|team_id|is_team_game|         playlist_id|     game_variant_id|is_match_over|    completion_date|match_duration|game_mode|map_variant_id|player_gamertag|count|          sprite_uri|sprite_left|sprite_top|sprite_sheet_width|sprite_sheet_height|sprite_width|sprite_height|   classification|         description|         name|difficulty|  name|         description|\n",
      "+--------------------+----------+--------------------+---------------+---------------------+------------+-----------------+--------+-----------------+------------------------+------------+---------------------------------+-----------------+----------------+-----------------------+-----------+--------------------------------+----------------+-------------------+---------------+-------------------+------------------+----------------------+--------------------------+-------------------------+------------------------+-------------------------+---------------------------+-------------------------------+--------------------------------+---------------------------+--------------------------------+-------------------------------+-------------------+--------------------+--------------------------+-------+-------+------------+--------------------+--------------------+-------------+-------------------+--------------+---------+--------------+---------------+-----+--------------------+-----------+----------+------------------+-------------------+------------+-------------+-----------------+--------------------+-------------+----------+------+--------------------+\n",
      "|cc040aa1-f206-11e...|3261908037|00169217-cca6-4b4...|  King Terror V|                   68|          68|          1597155| 1601153|                1|                       7|        2036|                                0|               17|               1|                      7|       2039|                               0|              17|                  1|          false|      PT29.9643588S|                14|                    11|                       530|                       22|                       1|                       45|                          0|                              0|                               0|                          0|                               0|                              0|                  7|                   2|                         0|      1|      1|        true|2323b76a-db98-4e0...|257a305e-4dd3-41f...|         true|2016-03-13 00:00:00|          NULL|     NULL|          NULL|  King Terror V|   11|https://content.h...|        375|       525|                74|                 74|        1125|          899|WeaponProficiency|Kill an opponent ...|     Headshot|        60|Fathom|The UNSC explores...|\n",
      "|cc040aa1-f206-11e...|3001183151|00169217-cca6-4b4...|  King Terror V|                   68|          68|          1597155| 1601153|                1|                       7|        2036|                                0|               17|               1|                      7|       2039|                               0|              17|                  1|          false|      PT29.9643588S|                14|                    11|                       530|                       22|                       1|                       45|                          0|                              0|                               0|                          0|                               0|                              0|                  7|                   2|                         0|      1|      1|        true|2323b76a-db98-4e0...|257a305e-4dd3-41f...|         true|2016-03-13 00:00:00|          NULL|     NULL|          NULL|  King Terror V|    1|https://content.h...|        300|       600|                74|                 74|        1125|          899|            Style|Earn the first ki...| First Strike|       180|Fathom|The UNSC explores...|\n",
      "|cc040aa1-f206-11e...| 824733727|00169217-cca6-4b4...|  King Terror V|                   68|          68|          1597155| 1601153|                1|                       7|        2036|                                0|               17|               1|                      7|       2039|                               0|              17|                  1|          false|      PT29.9643588S|                14|                    11|                       530|                       22|                       1|                       45|                          0|                              0|                               0|                          0|                               0|                              0|                  7|                   2|                         0|      1|      1|        true|2323b76a-db98-4e0...|257a305e-4dd3-41f...|         true|2016-03-13 00:00:00|          NULL|     NULL|          NULL|  King Terror V|    3|https://content.h...|        975|       450|                74|                 74|        1125|          899|            Style|Distract an oppon...|  Distraction|       150|Fathom|The UNSC explores...|\n",
      "|cc040aa1-f206-11e...|2078758684|00169217-cca6-4b4...|  King Terror V|                   68|          68|          1597155| 1601153|                1|                       7|        2036|                                0|               17|               1|                      7|       2039|                               0|              17|                  1|          false|      PT29.9643588S|                14|                    11|                       530|                       22|                       1|                       45|                          0|                              0|                               0|                          0|                               0|                              0|                  7|                   2|                         0|      1|      1|        true|2323b76a-db98-4e0...|257a305e-4dd3-41f...|         true|2016-03-13 00:00:00|          NULL|     NULL|          NULL|  King Terror V|    3|https://content.h...|        450|       300|                74|                 74|        1125|          899|        MultiKill|Kill 2 opponents ...|  Double Kill|        45|Fathom|The UNSC explores...|\n",
      "-f206-11e...|2430242797|00169217-cca6-4b4...|  King Terror V|                   68|          68|          1597155| 1601153|                1|                       7|        2036|                                0|               17|               1|                      7|       2039|                               0|              17|                  1|          false|      PT29.9643588S|                14|                    11|                       530|                       22|                       1|                       45|                          0|                              0|                               0|                          0|                               0|                              0|                  7|                   2|                         0|      1|      1|        true|2323b76a-db98-4e0...|257a305e-4dd3-41f...|         true|2016-03-13 00:00:00|          NULL|     NULL|          NULL|  King Terror V|    1|https://content.h...|        675|       300|                74|                 74|        1125|          899|     KillingSpree|Kill 5 opponents ...|Killing Spree|        45|Fathom|The UNSC explores...|\n",
      "|cc040aa1-f206-11e...| 466059351|00169217-cca6-4b4...|  King Terror V|                   68|          68|          1597155| 1601153|                1|                       7|        2036|                                0|               17|               1|                      7|       2039|                               0|              17|                  1|          false|      PT29.9643588S|                14|                    11|                       530|                       22|                       1|                       45|                          0|                              0|                               0|                          0|                               0|                              0|                  7|                   2|                         0|      1|      1|        true|2323b76a-db98-4e0...|257a305e-4dd3-41f...|         true|2016-03-13 00:00:00|          NULL|     NULL|          NULL|  King Terror V|    1|https://content.h...|        825|       825|                74|                 74|        1125|          899|            Style|Be the first play...|      Top Gun|        20|Fathom|The UNSC explores...|\n",
      "|cc040aa1-f206-11e...|2782465081|00169217-cca6-4b4...|  King Terror V|                   68|          68|          1597155| 1601153|                1|                       7|        2036|                                0|               17|               1|                      7|       2039|                               0|              17|                  1|          false|      PT29.9643588S|                14|                    11|                       530|                       22|                       1|                       45|                          0|                              0|                               0|                          0|                               0|                              0|                  7|                   2|                         0|      1|      1|        true|2323b76a-db98-4e0...|257a305e-4dd3-41f...|         true|2016-03-13 00:00:00|          NULL|     NULL|          NULL|  King Terror V|    2|https://content.h...|          0|       675|                74|                 74|        1125|          899|            Style|Kill an enemy who...|     Reversal|       115|Fathom|The UNSC explores...|\n",
      "|cc040aa1-f206-11e...|2287626681|00169217-cca6-4b4...|  King Terror V|                   68|          68|          1597155| 1601153|                1|                       7|        2036|                                0|               17|               1|                      7|       2039|                               0|              17|                  1|          false|      PT29.9643588S|                14|                    11|                       530|                       22|                       1|                       45|                          0|                              0|                               0|                          0|                               0|                              0|                  7|                   2|                         0|      1|      1|        true|2323b76a-db98-4e0...|257a305e-4dd3-41f...|         true|2016-03-13 00:00:00|          NULL|     NULL|          NULL|  King Terror V|    1|https://content.h...|        600|       300|                74|                 74|        1125|          899|            Style|Kill an opponent ...|   Melee Kill|       220|Fathom|The UNSC explores...|\n",
      "|cc040aa1-f206-11e...|2782465081|00169217-cca6-4b4...|  King Terror V|                   68|          68|          1597155| 1601153|                1|                       7|        2036|                                0|               17|               1|                      7|       2039|                               0|              17|                  1|          false|      PT29.9643588S|                14|                    11|                       530|                       22|                       1|                       45|                          0|                              0|                               0|                          0|                               0|                              0|                  7|                   2|                         0|      1|      1|        true|2323b76a-db98-4e0...|257a305e-4dd3-41f...|         true|2016-03-13 00:00:00|          NULL|     NULL|          NULL|      King Sope|    2|https://content.h...|          0|       675|                74|                 74|        1125|          899|            Style|Kill an enemy who...|     Reversal|       115|Fathom|The UNSC explores...|\n",
      "|cc040aa1-f206-11e...|3261908037|00169217-cca6-4b4...|  King Terror V|                   68|          68|          1597155| 1601153|                1|                       7|        2036|                                0|               17|               1|                      7|       2039|                               0|              17|                  1|          false|      PT29.9643588S|                14|                    11|                       530|                       22|                       1|                       45|                          0|                              0|                               0|                          0|                               0|                              0|                  7|                   2|                         0|      1|      1|        true|2323b76a-db98-4e0...|257a305e-4dd3-41f...|         true|2016-03-13 00:00:00|          NULL|     NULL|          NULL|      King Sope|   10|https://content.h...|        375|       525|                74|                 74|        1125|          899|WeaponProficiency|Kill an opponent ...|     Headshot|        60|Fathom|The UNSC explores...|\n",
      "+--------------------+----------+--------------------+---------------+---------------------+------------+-----------------+--------+-----------------+------------------------+------------+---------------------------------+-----------------+----------------+-----------------------+-----------+--------------------------------+----------------+-------------------+---------------+-------------------+------------------+----------------------+--------------------------+-------------------------+------------------------+-------------------------+---------------------------+-------------------------------+--------------------------------+---------------------------+--------------------------------+-------------------------------+-------------------+--------------------+--------------------------+-------+-------+------------+--------------------+--------------------+-------------+-------------------+--------------+---------+--------------+---------------+-----+--------------------+-----------+----------+------------------+-------------------+------------+-------------+-----------------+--------------------+-------------+----------+------+--------------------+\n",
      "0 rowshowing top 1\n",
      "\n"
     ]
    },
    {
     "data": {
      "text/plain": [
       "matchDetailsB: org.apache.spark.sql.DataFrame = [match_id: string, player_gamertag: string ... 34 more fields]\n",
       "matchesB: org.apache.spark.sql.DataFrame = [match_id: string, mapid: string ... 8 more fields]\n",
       "medalMatchesPlayersB: org.apache.spark.sql.DataFrame = [match_id: string, player_gamertag: string ... 2 more fields]\n",
       "medals: org.apache.spark.sql.DataFrame = [medal_id: string, sprite_uri: string ... 10 more fields]\n",
       "maps: org.apache.spark.sql.DataFrame = [mapid: string, name: string ... 1 more field]\n",
       "joinedDF: org.apache.spark.sql.DataFrame = [mapid: string, medal_id: string ... 59 more fields]\n"
      ]
     },
     "execution_count": 100,
     "metadata": {},
     "output_type": "execute_result"
    }
   ],
   "source": [
    "val matchDetailsB = spark.table(\"bootcamp.match_details_bucketed\")\n",
    "val matchesB = spark.table(\"bootcamp.matches_bucketed\")\n",
    "val medalMatchesPlayersB = spark.table(\"bootcamp.medal_matches_players_bucketed\")\n",
    "\n",
    "\n",
    "val medals = spark.table(\"bootcamp.medals_bucketed\")\n",
    "val maps = spark.table(\"bootcamp.maps_bucketed\")\n",
    "\n",
    "\n",
    "val joinedDF = matchDetailsB\n",
    "  .join(matchesB, Seq(\"match_id\")) // bucket join\n",
    "  .join(medalMatchesPlayersB, Seq(\"match_id\")) // bucket join\n",
    "  .join(broadcast(medals), Seq(\"medal_id\")) // explicit broadcast join\n",
    "  .join(broadcast(maps), Seq(\"mapid\")) // explicit broadcast join\n",
    "\n",
    "joinedDF.show(10)"
   ]
  },
  {
   "cell_type": "code",
   "execution_count": 84,
   "id": "5ac0f987-b8b2-4da7-a4a9-441f1a0bdf2a",
   "metadata": {},
   "outputs": [
    {
     "data": {
      "text/plain": [
       "matches: org.apache.spark.sql.DataFrame = [match_id: string, mapid: string ... 8 more fields]\n",
       "matchDetails: org.apache.spark.sql.DataFrame = [match_id: string, player_gamertag: string ... 34 more fields]\n",
       "medalMatchesPlayers: org.apache.spark.sql.DataFrame = [match_id: string, player_gamertag: string ... 2 more fields]\n",
       "medals: org.apache.spark.sql.DataFrame = [medal_id: bigint, sprite_uri: string ... 10 more fields]\n",
       "maps: org.apache.spark.sql.DataFrame = [mapid: string, name: string ... 1 more field]\n"
      ]
     },
     "execution_count": 84,
     "metadata": {},
     "output_type": "execute_result"
    }
   ],
   "source": [
    "val matches = spark.read.option(\"header\", \"true\")\n",
    "                        .option(\"inferSchema\", \"true\")\n",
    "                        .csv(\"/home/iceberg/data/matches.csv\")\n",
    "val matchDetails =  spark.read.option(\"header\", \"true\")\n",
    "                        .option(\"inferSchema\", \"true\")\n",
    "                        .csv(\"/home/iceberg/data/match_details.csv\")\n",
    "val medalMatchesPlayers = spark.read.option(\"header\", \"true\")\n",
    "                        .option(\"inferSchema\", \"true\")\n",
    "                        .csv(\"/home/iceberg/data/medals_matches_players.csv\")\n",
    "\n",
    "val medals = spark.read.option(\"header\", \"true\")\n",
    "                        .option(\"inferSchema\", \"true\")\n",
    "                        .csv(\"/home/iceberg/data/medals.csv\")\n",
    "\n",
    "val maps = spark.read.option(\"header\", \"true\")\n",
    "                        .option(\"inferSchema\", \"true\")\n",
    "                        .csv(\"/home/iceberg/data/maps.csv\")\n"
   ]
  },
  {
   "cell_type": "code",
   "execution_count": 85,
   "id": "e12c3d88-3959-44ad-848b-aeb81bd96ff1",
   "metadata": {},
   "outputs": [
    {
     "data": {
      "text/plain": [
       "res64: org.apache.spark.sql.DataFrame = []\n"
      ]
     },
     "execution_count": 85,
     "metadata": {},
     "output_type": "execute_result"
    }
   ],
   "source": [
    "spark.sql(\"DROP TABLE IF EXISTS bootcamp.matches_bucketed\")\n",
    "spark.sql(\"\"\"\n",
    "CREATE TABLE IF NOT EXISTS bootcamp.matches_bucketed (\n",
    "    match_id STRING,\n",
    "    mapid STRING,\n",
    "    is_team_game BOOLEAN,\n",
    "    playlist_id STRING,\n",
    "    game_variant_id STRING,\n",
    "    is_match_over BOOLEAN,\n",
    "    completion_date TIMESTAMP,\n",
    "    match_duration STRING,\n",
    "    game_mode STRING,\n",
    "    map_variant_id STRING\n",
    ")\n",
    "USING iceberg\n",
    "PARTITIONED BY (bucket(16, match_id))\n",
    "\"\"\")\n",
    "\n",
    "spark.sql(\"DROP TABLE IF EXISTS bootcamp.match_details_bucketed\")\n",
    "spark.sql(\"\"\"\n",
    "CREATE TABLE IF NOT EXISTS bootcamp.match_details_bucketed (\n",
    "    match_id STRING,\n",
    "    player_gamertag STRING,\n",
    "    previous_spartan_rank INT,\n",
    "    spartan_rank INT,\n",
    "    previous_total_xp INT,\n",
    "    total_xp INT,\n",
    "    previous_csr_tier INT,\n",
    "    previous_csr_designation INT,\n",
    "    previous_csr INT,\n",
    "    previous_csr_percent_to_next_tier INT,\n",
    "    previous_csr_rank INT,\n",
    "    current_csr_tier INT,\n",
    "    current_csr_designation INT,\n",
    "    current_csr INT,\n",
    "    current_csr_percent_to_next_tier INT,\n",
    "    current_csr_rank INT,\n",
    "    player_rank_on_team INT,\n",
    "    player_finished BOOLEAN,\n",
    "    player_average_life STRING,\n",
    "    player_total_kills INT,\n",
    "    player_total_headshots INT,\n",
    "    player_total_weapon_damage INT,\n",
    "    player_total_shots_landed INT,\n",
    "    player_total_melee_kills INT,\n",
    "    player_total_melee_damage INT,\n",
    "    player_total_assassinations INT,\n",
    "    player_total_ground_pound_kills INT,\n",
    "    player_total_shoulder_bash_kills INT,\n",
    "    player_total_grenade_damage INT,\n",
    "    player_total_power_weapon_damage INT,\n",
    "    player_total_power_weapon_grabs INT,\n",
    "    player_total_deaths INT,\n",
    "    player_total_assists INT,\n",
    "    player_total_grenade_kills INT,\n",
    "    did_win INT,\n",
    "    team_id INT\n",
    ")\n",
    "USING iceberg\n",
    "PARTITIONED BY (bucket(16, match_id))\n",
    "\"\"\")\n",
    "\n",
    "spark.sql(\"DROP TABLE IF EXISTS bootcamp.medal_matches_players_bucketed\")\n",
    "spark.sql(\"\"\"\n",
    "CREATE TABLE IF NOT EXISTS bootcamp.medal_matches_players_bucketed (\n",
    "    match_id STRING,\n",
    "    player_gamertag STRING,\n",
    "    medal_id STRING,\n",
    "    count INT\n",
    ")\n",
    "USING iceberg\n",
    "PARTITIONED BY (bucket(16, match_id))\n",
    "\"\"\")\n"
   ]
  },
  {
   "cell_type": "code",
   "execution_count": 86,
   "id": "da23dcb7-00ff-46b4-a209-a0279881c346",
   "metadata": {},
   "outputs": [],
   "source": [
    "spark.sql(\"DROP TABLE IF EXISTS bootcamp.medal_matches_players_bucketed\")\n",
    "spark.sql(\"\"\"\n",
    "CREATE TABLE IF NOT EXISTS bootcamp.medal_matches_players_bucketed (\n",
    "    match_id STRING,\n",
    "    player_gamertag STRING,\n",
    "    medal_id STRING,\n",
    "    count INT\n",
    ")\n",
    "USING iceberg\n",
    "PARTITIONED BY (bucket(16, match_id))\n",
    "\"\"\")\n",
    "\n",
    "medalMatchesPlayers.writeTo(\"bootcamp.medal_matches_players_bucketed\").append()"
   ]
  },
  {
   "cell_type": "code",
   "execution_count": 87,
   "id": "f8485e32-2ced-489f-94ce-c950232f95d7",
   "metadata": {},
   "outputs": [
    {
     "data": {
      "text/plain": [
       "res66: org.apache.spark.sql.DataFrame = []\n"
      ]
     },
     "execution_count": 87,
     "metadata": {},
     "output_type": "execute_result"
    }
   ],
   "source": [
    "spark.sql(\"DROP TABLE IF EXISTS bootcamp.medals_bucketed\")\n",
    "spark.sql(\"\"\"\n",
    "CREATE TABLE IF NOT EXISTS bootcamp.medals_bucketed (\n",
    "medal_id STRING,\n",
    "sprite_uri STRING,\n",
    "sprite_left INT,\n",
    "sprite_top INT,\n",
    "sprite_sheet_width INT,\n",
    "sprite_sheet_height INT,\n",
    "sprite_width INT,\n",
    "sprite_height INT,\n",
    "classification STRING,\n",
    "description STRING,\n",
    "name STRING,\n",
    "difficulty INT\n",
    ")\n",
    "USING iceberg\n",
    "PARTITIONED BY (bucket(16, medal_id))\n",
    "\"\"\")"
   ]
  },
  {
   "cell_type": "code",
   "execution_count": 93,
   "id": "e01eb9d4-03f1-4f20-a2be-4c3c1f635a51",
   "metadata": {},
   "outputs": [
    {
     "data": {
      "text/plain": [
       "res71: org.apache.spark.sql.DataFrame = []\n"
      ]
     },
     "execution_count": 93,
     "metadata": {},
     "output_type": "execute_result"
    }
   ],
   "source": [
    "spark.sql(\"DROP TABLE IF EXISTS bootcamp.maps_bucketed\")\n",
    "spark.sql(\"\"\"\n",
    "CREATE TABLE IF NOT EXISTS bootcamp.maps_bucketed (\n",
    "mapid STRING,\n",
    "name STRING,\n",
    "description STRING\n",
    ")\n",
    "USING iceberg\n",
    "PARTITIONED BY (bucket(16, mapid))\n",
    "\"\"\")"
   ]
  },
  {
   "cell_type": "code",
   "execution_count": 88,
   "id": "3e1bc9b5-07f4-4fe1-bda7-003d4a56577b",
   "metadata": {},
   "outputs": [],
   "source": [
    "\n",
    "matches.writeTo(\"bootcamp.matches_bucketed\").append()\n",
    "matchDetails.writeTo(\"bootcamp.match_details_bucketed\").append()\n",
    "medalMatchesPlayers.writeTo(\"bootcamp.medal_matches_players_bucketed\").append()\n",
    "medals.writeTo(\"bootcamp.medals_bucketed\").append()\n"
   ]
  },
  {
   "cell_type": "code",
   "execution_count": 94,
   "id": "212de917-f6f1-4b2e-b358-e5bcfaca849f",
   "metadata": {},
   "outputs": [],
   "source": [
    "maps.writeTo(\"bootcamp.maps_bucketed\").append()"
   ]
  },
  {
   "cell_type": "code",
   "execution_count": 89,
   "id": "f001489e-52c4-437a-a3ff-7ef629cdb921",
   "metadata": {},
   "outputs": [
    {
     "data": {
      "text/plain": [
       "joinedDF: org.apache.spark.sql.DataFrame = [match_id: string, player_gamertag: string ... 46 more fields]\n"
      ]
     },
     "execution_count": 89,
     "metadata": {},
     "output_type": "execute_result"
    }
   ],
   "source": [
    "val joinedDF = spark.table(\"bootcamp.match_details_bucketed\")\n",
    "  .join(spark.table(\"bootcamp.matches_bucketed\"), Seq(\"match_id\"))\n",
    "  .join(spark.table(\"bootcamp.medal_matches_players_bucketed\"), Seq(\"match_id\"))"
   ]
  },
  {
   "cell_type": "code",
   "execution_count": 32,
   "id": "77f5dad7-724f-4b04-a06a-3a995233826e",
   "metadata": {},
   "outputs": [
    {
     "data": {
      "text/plain": [
       "import org.apache.spark.sql.functions._\n",
       "killsPerGame: org.apache.spark.sql.Dataset[org.apache.spark.sql.Row] = [player_gamertag: string, avg_kills_per_game: double]\n"
      ]
     },
     "execution_count": 32,
     "metadata": {},
     "output_type": "execute_result"
    }
   ],
   "source": [
    "import org.apache.spark.sql.functions._\n",
    "val killsPerGame = joinedDF\n",
    "  .groupBy(\"`demo`.`bootcamp`.`match_details_bucketed`.`player_gamertag`\")\n",
    "  .agg(\n",
    "    (avg(\"player_total_kills\"))\n",
    "      .alias(\"avg_kills_per_game\")\n",
    "  )\n",
    "  .orderBy(desc(\"avg_kills_per_game\"))\n",
    "  killsPerGame.show(5)"
   ]
  },
  {
   "cell_type": "code",
   "execution_count": 37,
   "id": "90ec68bc-53c9-4e76-93af-ae2a90e6c281",
   "metadata": {},
   "outputs": [
    {
     "name": "stdout",
     "output_type": "stream",
     "text": [
      "+--------------------+------------+\n",
      "|         playlist_id|played_times|\n",
      "+--------------------+------------+\n",
      "|f72e0ef0-7c4a-430...|     1565529|\n",
      "|780cc101-005c-4fc...|     1116002|\n",
      "|0bcf2be1-3168-4e4...|     1015496|\n",
      "|c98949ae-60a8-43d...|      824932|\n",
      "|2323b76a-db98-4e0...|      692342|\n",
      "+--------------------+------------+\n",
      "only showing top 5 rows\n",
      "\n"
     ]
    },
    {
     "data": {
      "text/plain": [
       "import org.apache.spark.sql.functions._\n",
       "most_played_playlist: org.apache.spark.sql.Dataset[org.apache.spark.sql.Row] = [playlist_id: string, played_times: bigint]\n"
      ]
     },
     "execution_count": 37,
     "metadata": {},
     "output_type": "execute_result"
    }
   ],
   "source": [
    "import org.apache.spark.sql.functions._\n",
    "val most_played_playlist = joinedDF\n",
    "  .groupBy(\"`playlist_id`\")\n",
    "  .agg(count(\"*\").alias(\"played_times\"))\n",
    "  .orderBy(desc(\"played_times\"))\n",
    "  \n",
    "  most_played_playlist.show(5)"
   ]
  },
  {
   "cell_type": "code",
   "execution_count": 48,
   "id": "467a0041-c7f0-4aa9-80b8-e5c544319428",
   "metadata": {},
   "outputs": [
    {
     "name": "stdout",
     "output_type": "stream",
     "text": [
      "+--------------------+------------+\n",
      "|               mapid|played_times|\n",
      "+--------------------+------------+\n",
      "|c74c9d0f-f206-11e...|     1445545|\n",
      "|c7edbf0f-f206-11e...|     1435048|\n",
      "|c7805740-f206-11e...|      953278|\n",
      "|cdb934b0-f206-11e...|      396305|\n",
      "|cb914b9e-f206-11e...|      309045|\n",
      "+--------------------+------------+\n",
      "only showing top 5 rows\n",
      "\n"
     ]
    },
    {
     "data": {
      "text/plain": [
       "most_played_map: org.apache.spark.sql.Dataset[org.apache.spark.sql.Row] = [mapid: string, played_times: bigint]\n"
      ]
     },
     "execution_count": 48,
     "metadata": {},
     "output_type": "execute_result"
    }
   ],
   "source": [
    "val most_played_map = joinedDF\n",
    "  .groupBy(\"`mapid`\")\n",
    "  .agg(count(\"*\").alias(\"played_times\"))\n",
    "  .orderBy(desc(\"played_times\"))\n",
    "  \n",
    "  most_played_map.show(5)"
   ]
  },
  {
   "cell_type": "code",
   "execution_count": 98,
   "id": "534b25cb-3fdd-44cc-9b61-1da330300e99",
   "metadata": {},
   "outputs": [
    {
     "name": "stdout",
     "output_type": "stream",
     "text": [
      "+--------------+--------------------+\n",
      "|          name|total_killing_sprees|\n",
      "+--------------+--------------------+\n",
      "|Breakout Arena|               13850|\n",
      "|        Alpine|               11830|\n",
      "|       Glacier|                7574|\n",
      "|        Empire|                4708|\n",
      "|         Truth|                4356|\n",
      "|       The Rig|                4234|\n",
      "|      Coliseum|                4094|\n",
      "|         Plaza|                4038|\n",
      "|          Eden|                3730|\n",
      "|        Regret|                3692|\n",
      "+--------------+--------------------+\n",
      "only showing top 10 rows\n",
      "\n"
     ]
    },
    {
     "data": {
      "text/plain": [
       "killingSpreeDF: org.apache.spark.sql.Dataset[org.apache.spark.sql.Row] = [medal_id: string, match_id: string ... 13 more fields]\n",
       "spreeByMap: org.apache.spark.sql.Dataset[org.apache.spark.sql.Row] = [mapid: string, total_killing_sprees: bigint]\n",
       "spreeByMapName: org.apache.spark.sql.Dataset[org.apache.spark.sql.Row] = [name: string, total_killing_sprees: bigint]\n"
      ]
     },
     "execution_count": 98,
     "metadata": {},
     "output_type": "execute_result"
    }
   ],
   "source": [
    "val killingSpreeDF = spark.table(\"bootcamp.medal_matches_players_bucketed\")\n",
    "  .join(spark.table(\"bootcamp.medals_bucketed\"), Seq(\"medal_id\"))\n",
    "  .filter(col(\"classification\") === \"KillingSpree\")\n",
    "\n",
    "val spreeByMap = killingSpreeDF\n",
    "  .join(spark.table(\"bootcamp.matches_bucketed\"), Seq(\"match_id\"))\n",
    "  .groupBy(\"mapid\")\n",
    "  .agg(sum(\"count\").alias(\"total_killing_sprees\"))\n",
    "  .orderBy(desc(\"total_killing_sprees\"))\n",
    "\n",
    "val spreeByMapName = spreeByMap\n",
    "  .join(spark.table(\"bootcamp.maps_bucketed\"), Seq(\"mapid\"))\n",
    "  .select(\"`demo`.`bootcamp`.`maps_bucketed`.`name`\", \"total_killing_sprees\")\n",
    "  .orderBy(desc(\"total_killing_sprees\"))\n",
    "\n",
    "spreeByMapName.show(10)"
   ]
  }
 ],
 "metadata": {
  "kernelspec": {
   "display_name": "spylon-kernel",
   "language": "scala",
   "name": "spylon-kernel"
  },
  "language_info": {
   "codemirror_mode": "text/x-scala",
   "file_extension": ".scala",
   "help_links": [
    {
     "text": "MetaKernel Magics",
     "url": "https://metakernel.readthedocs.io/en/latest/source/README.html"
    }
   ],
   "mimetype": "text/x-scala",
   "name": "scala",
   "pygments_lexer": "scala",
   "version": "0.4.1"
  }
 },
 "nbformat": 4,
 "nbformat_minor": 5
}
